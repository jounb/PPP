{
  "nbformat": 4,
  "nbformat_minor": 0,
  "metadata": {
    "colab": {
      "name": "Capstone 3 - PPP loans",
      "provenance": [],
      "collapsed_sections": [],
      "toc_visible": true,
      "authorship_tag": "ABX9TyPAzhgRp9cTsG7pA3iRhokH",
      "include_colab_link": true
    },
    "kernelspec": {
      "display_name": "Python 3",
      "name": "python3"
    },
    "language_info": {
      "name": "python"
    }
  },
  "cells": [
    {
      "cell_type": "markdown",
      "metadata": {
        "id": "view-in-github",
        "colab_type": "text"
      },
      "source": [
        "<a href=\"https://colab.research.google.com/github/jounb/PPP/blob/main/Capstone_3_PPP_loans.ipynb\" target=\"_parent\"><img src=\"https://colab.research.google.com/assets/colab-badge.svg\" alt=\"Open In Colab\"/></a>"
      ]
    },
    {
      "cell_type": "markdown",
      "metadata": {
        "id": "h_O1dePtSfVl"
      },
      "source": [
        "# **1. Research Background and Goals**\n",
        "\n",
        "During the COVID-19 pandemic, PPP Loans have been critical for small businesses to keep their businesses open. While the loans have helped numerous businesses, there has also been controversy around large loan amounts going to bigger companies rather than the intended small businesses.\n",
        "\n",
        "In this study, approved PPP loan data will be analyzed to answer the following questions:\n",
        "\n",
        "1.   What is the breakdown of loans by loan amount and industry?\n",
        "2.   How much relief is going to support larger payroll costs vs. smaller?)\n",
        "3.   Are there any differences in loan amounts based on reported gender?\n",
        "\n",
        "The findings from this analysis can benefit government leaders to understand the distribution of PPP loans, and if there are any recommendations that can be implemented to future relief programs to make it more equitable."
      ]
    },
    {
      "cell_type": "markdown",
      "metadata": {
        "id": "BydDCYXraLIh"
      },
      "source": [
        "# **2. Data Overview and Wrangling**\n",
        "\n",
        "The Small Business Administration has published PPP approved loan amounts by business and limited demographic information on sba.gov \n",
        "\n",
        "There are 9 csv files that are a total of 3 GB of data and 7,341,398 rows.  Due to size, files will be uploaded as public AWS S3 objects, and then pulled in and merged into one data frame to be analyzed.\n",
        "\n",
        "Additionally, the available dataset has NAICS codes for industries, so a look-up table will be joined to convert NAICS codes to industry descriptions. This will be used to provide a reader-friendly view of breakdown of loans by industry.\n"
      ]
    },
    {
      "cell_type": "markdown",
      "metadata": {
        "id": "YM8iiSBD8FMj"
      },
      "source": [
        "First, we'll import all needed packages for this analysis:"
      ]
    },
    {
      "cell_type": "code",
      "metadata": {
        "id": "EdrLNyU0P8xE"
      },
      "source": [
        "import pandas as pd\n",
        "import math\n",
        "from scipy import stats\n",
        "import seaborn as sns\n",
        "import matplotlib.pyplot as plt\n",
        "import pylab\n",
        "import numpy as np"
      ],
      "execution_count": null,
      "outputs": []
    },
    {
      "cell_type": "markdown",
      "metadata": {
        "id": "3RkhzKEtPUIu"
      },
      "source": [
        "Then, we'll create dataframes for each of the 9 csv files from sba.gov.\n",
        "\n",
        "WARNING: the next cell will take ~5 minutes to run."
      ]
    },
    {
      "cell_type": "code",
      "metadata": {
        "id": "qnooZZeap-Bw"
      },
      "source": [
        "df1 = pd.read_csv('https://ppploandataanalysis.s3.us-east-2.amazonaws.com/03-03-21+Paycheck+Protection+Program+Data/public_150k_plus.csv')\n",
        "df2 = pd.read_csv('https://ppploandataanalysis.s3.us-east-2.amazonaws.com/03-03-21+Paycheck+Protection+Program+Data/public_up_to_150k_1.csv')\n",
        "df3 = pd.read_csv('https://ppploandataanalysis.s3.us-east-2.amazonaws.com/03-03-21+Paycheck+Protection+Program+Data/public_up_to_150k_2.csv')\n",
        "df4 = pd.read_csv('https://ppploandataanalysis.s3.us-east-2.amazonaws.com/03-03-21+Paycheck+Protection+Program+Data/public_up_to_150k_3.csv')\n",
        "df5 = pd.read_csv('https://ppploandataanalysis.s3.us-east-2.amazonaws.com/03-03-21+Paycheck+Protection+Program+Data/public_up_to_150k_4.csv')\n",
        "df6 = pd.read_csv('https://ppploandataanalysis.s3.us-east-2.amazonaws.com/03-03-21+Paycheck+Protection+Program+Data/public_up_to_150k_5.csv')\n",
        "df7 = pd.read_csv('https://ppploandataanalysis.s3.us-east-2.amazonaws.com/03-03-21+Paycheck+Protection+Program+Data/public_up_to_150k_6.csv')\n",
        "df8 = pd.read_csv('https://ppploandataanalysis.s3.us-east-2.amazonaws.com/03-03-21+Paycheck+Protection+Program+Data/public_up_to_150k_7.csv')\n",
        "df9 = pd.read_csv('https://ppploandataanalysis.s3.us-east-2.amazonaws.com/03-03-21+Paycheck+Protection+Program+Data/public_up_to_150k_8.csv')\n"
      ],
      "execution_count": null,
      "outputs": []
    },
    {
      "cell_type": "markdown",
      "metadata": {
        "id": "BDRGkgfaZjA9"
      },
      "source": [
        "We'll merge all the data into one dataframe and review the columns "
      ]
    },
    {
      "cell_type": "code",
      "metadata": {
        "colab": {
          "base_uri": "https://localhost:8080/"
        },
        "id": "U_KE7WRAqmtO",
        "outputId": "6c1d8abe-2ed5-4a4a-950d-9f644ba163be"
      },
      "source": [
        "ppp_df1 = pd.concat([df1, df2, df3, df4, df5, df6, df7, df8, df9])\n",
        "\n",
        "print(ppp_df1.info())"
      ],
      "execution_count": null,
      "outputs": [
        {
          "output_type": "stream",
          "text": [
            "<class 'pandas.core.frame.DataFrame'>\n",
            "Int64Index: 7341398 entries, 0 to 161436\n",
            "Data columns (total 51 columns):\n",
            " #   Column                       Dtype  \n",
            "---  ------                       -----  \n",
            " 0   LoanNumber                   int64  \n",
            " 1   DateApproved                 object \n",
            " 2   SBAOfficeCode                float64\n",
            " 3   ProcessingMethod             object \n",
            " 4   BorrowerName                 object \n",
            " 5   BorrowerAddress              object \n",
            " 6   BorrowerCity                 object \n",
            " 7   BorrowerState                object \n",
            " 8   BorrowerZip                  object \n",
            " 9   LoanStatusDate               object \n",
            " 10  LoanStatus                   object \n",
            " 11  Term                         int64  \n",
            " 12  SBAGuarantyPercentage        int64  \n",
            " 13  InitialApprovalAmount        float64\n",
            " 14  CurrentApprovalAmount        float64\n",
            " 15  UndisbursedAmount            float64\n",
            " 16  FranchiseName                object \n",
            " 17  ServicingLenderLocationID    float64\n",
            " 18  ServicingLenderName          object \n",
            " 19  ServicingLenderAddress       object \n",
            " 20  ServicingLenderCity          object \n",
            " 21  ServicingLenderState         object \n",
            " 22  ServicingLenderZip           object \n",
            " 23  RuralUrbanIndicator          object \n",
            " 24  HubzoneIndicator             object \n",
            " 25  LMIIndicator                 object \n",
            " 26  BusinessAgeDescription       object \n",
            " 27  ProjectCity                  object \n",
            " 28  ProjectCountyName            object \n",
            " 29  ProjectState                 object \n",
            " 30  ProjectZip                   object \n",
            " 31  CD                           object \n",
            " 32  JobsReported                 float64\n",
            " 33  NAICSCode                    float64\n",
            " 34  Race                         object \n",
            " 35  Ethnicity                    object \n",
            " 36  UTILITIES_PROCEED            float64\n",
            " 37  PAYROLL_PROCEED              float64\n",
            " 38  MORTGAGE_INTEREST_PROCEED    float64\n",
            " 39  RENT_PROCEED                 float64\n",
            " 40  REFINANCE_EIDL_PROCEED       float64\n",
            " 41  HEALTH_CARE_PROCEED          float64\n",
            " 42  DEBT_INTEREST_PROCEED        float64\n",
            " 43  BusinessType                 object \n",
            " 44  OriginatingLenderLocationID  float64\n",
            " 45  OriginatingLender            object \n",
            " 46  OriginatingLenderCity        object \n",
            " 47  OriginatingLenderState       object \n",
            " 48  Gender                       object \n",
            " 49  Veteran                      object \n",
            " 50  NonProfit                    object \n",
            "dtypes: float64(15), int64(3), object(33)\n",
            "memory usage: 2.8+ GB\n",
            "None\n"
          ],
          "name": "stdout"
        }
      ]
    },
    {
      "cell_type": "markdown",
      "metadata": {
        "id": "WFdGhrWVkRH6"
      },
      "source": [
        "There are 7,341,398 rows and 51 columns.\n",
        "\n",
        "Not all columns will be needed, so we'll create a smaller dataframe with needed columns and delete other ones since Google Colab has limited disk & drive space."
      ]
    },
    {
      "cell_type": "code",
      "metadata": {
        "id": "tDY8uFs8nP23",
        "colab": {
          "base_uri": "https://localhost:8080/"
        },
        "outputId": "7c293fea-2c30-4b2b-8a0c-e387c3a65115"
      },
      "source": [
        "del df1, df2, df3, df4, df5, df6, df7, df8, df9\n",
        "\n",
        "ppp_df2 = ppp_df1[[\"LoanNumber\", \"CurrentApprovalAmount\",  \"BorrowerState\", \"Race\", \"NAICSCode\", \"Gender\", \"JobsReported\"]]\n",
        "print(ppp_df2.info())"
      ],
      "execution_count": null,
      "outputs": [
        {
          "output_type": "stream",
          "text": [
            "<class 'pandas.core.frame.DataFrame'>\n",
            "Int64Index: 7341398 entries, 0 to 161436\n",
            "Data columns (total 7 columns):\n",
            " #   Column                 Dtype  \n",
            "---  ------                 -----  \n",
            " 0   LoanNumber             int64  \n",
            " 1   CurrentApprovalAmount  float64\n",
            " 2   BorrowerState          object \n",
            " 3   Race                   object \n",
            " 4   NAICSCode              float64\n",
            " 5   Gender                 object \n",
            " 6   JobsReported           float64\n",
            "dtypes: float64(3), int64(1), object(3)\n",
            "memory usage: 448.1+ MB\n",
            "None\n"
          ],
          "name": "stdout"
        }
      ]
    },
    {
      "cell_type": "markdown",
      "metadata": {
        "id": "--48fhzjry5f"
      },
      "source": [
        "Now that we have this df cleaned up, let's join the NAICS code table  so we can see loan by industry"
      ]
    },
    {
      "cell_type": "code",
      "metadata": {
        "colab": {
          "base_uri": "https://localhost:8080/"
        },
        "id": "2QcptW38ru8H",
        "outputId": "7034b739-bba1-45dc-e5cc-8566fa386365"
      },
      "source": [
        "del ppp_df1\n",
        "\n",
        "NAICS_df = pd.read_csv('https://ppploandataanalysis.s3.us-east-2.amazonaws.com/03-03-21+Paycheck+Protection+Program+Data/6-digit_2017_NAICS.csv')\n",
        "\n",
        "NAICS_df.info()"
      ],
      "execution_count": null,
      "outputs": [
        {
          "output_type": "stream",
          "text": [
            "<class 'pandas.core.frame.DataFrame'>\n",
            "RangeIndex: 1057 entries, 0 to 1056\n",
            "Data columns (total 3 columns):\n",
            " #   Column            Non-Null Count  Dtype \n",
            "---  ------            --------------  ----- \n",
            " 0   2017 NAICS Code   1057 non-null   int64 \n",
            " 1   2017 NAICS Title  1057 non-null   object\n",
            " 2   Summary_NAICS     1057 non-null   object\n",
            "dtypes: int64(1), object(2)\n",
            "memory usage: 24.9+ KB\n"
          ],
          "name": "stdout"
        }
      ]
    },
    {
      "cell_type": "markdown",
      "metadata": {
        "id": "Pojjm24Sar6A"
      },
      "source": [
        "We'll merge the the dataframes based on NAICS code"
      ]
    },
    {
      "cell_type": "code",
      "metadata": {
        "colab": {
          "base_uri": "https://localhost:8080/"
        },
        "id": "zvPnfAmSryom",
        "outputId": "85de4e9c-2db8-4d4c-f24a-2e3a1d6db305"
      },
      "source": [
        "ppp_df3 = pd.merge(left = ppp_df2, right = NAICS_df, how = \"left\", left_on= [\"NAICSCode\"], right_on= [\"2017 NAICS Code\"])\n",
        "\n",
        "ppp_df3.info()"
      ],
      "execution_count": null,
      "outputs": [
        {
          "output_type": "stream",
          "text": [
            "<class 'pandas.core.frame.DataFrame'>\n",
            "Int64Index: 7341398 entries, 0 to 7341397\n",
            "Data columns (total 10 columns):\n",
            " #   Column                 Dtype  \n",
            "---  ------                 -----  \n",
            " 0   LoanNumber             int64  \n",
            " 1   CurrentApprovalAmount  float64\n",
            " 2   BorrowerState          object \n",
            " 3   Race                   object \n",
            " 4   NAICSCode              float64\n",
            " 5   Gender                 object \n",
            " 6   JobsReported           float64\n",
            " 7   2017 NAICS Code        float64\n",
            " 8   2017 NAICS Title       object \n",
            " 9   Summary_NAICS          object \n",
            "dtypes: float64(4), int64(1), object(5)\n",
            "memory usage: 616.1+ MB\n"
          ],
          "name": "stdout"
        }
      ]
    },
    {
      "cell_type": "markdown",
      "metadata": {
        "id": "E-HlXYEU_bWa"
      },
      "source": [
        "We only need the summary_naics colummn, so we'll remove the code and titles. We'll also check for NAs again"
      ]
    },
    {
      "cell_type": "code",
      "metadata": {
        "colab": {
          "base_uri": "https://localhost:8080/"
        },
        "id": "E1C_tJT700uH",
        "outputId": "fc720a7f-0917-4c96-c860-8d3cb45ed2f7"
      },
      "source": [
        "del ppp_df2\n",
        "\n",
        "ppp_df3 = ppp_df3.drop(columns= ['2017 NAICS Code', '2017 NAICS Title'])\n",
        "\n",
        "ppp_df3.isna().sum()"
      ],
      "execution_count": null,
      "outputs": [
        {
          "output_type": "execute_result",
          "data": {
            "text/plain": [
              "LoanNumber                    0\n",
              "CurrentApprovalAmount         0\n",
              "BorrowerState               166\n",
              "Race                          0\n",
              "NAICSCode                132795\n",
              "Gender                        0\n",
              "JobsReported                  6\n",
              "Summary_NAICS            227699\n",
              "dtype: int64"
            ]
          },
          "metadata": {
            "tags": []
          },
          "execution_count": 7
        }
      ]
    },
    {
      "cell_type": "markdown",
      "metadata": {
        "id": "3kTRtFFtbZrV"
      },
      "source": [
        "Lastly, we'll clean up any data where ppp loan amount is less than $1 and JobsReported are 0 or less."
      ]
    },
    {
      "cell_type": "code",
      "metadata": {
        "colab": {
          "base_uri": "https://localhost:8080/"
        },
        "id": "OAX21_6r_8IL",
        "outputId": "dca62732-fa25-453f-f487-f8c2ee2a10ed"
      },
      "source": [
        "ppp_df = ppp_df3.dropna()\n",
        "\n",
        "clean = (ppp_df['JobsReported'] >= 1) & (ppp_df['CurrentApprovalAmount'] > 1)\n",
        "\n",
        "ppp_df= ppp_df.iloc[clean.values]\n",
        "\n",
        "ppp_df['JobsReported'].describe()"
      ],
      "execution_count": null,
      "outputs": [
        {
          "output_type": "execute_result",
          "data": {
            "text/plain": [
              "count    7.113346e+06\n",
              "mean     1.073093e+01\n",
              "std      2.969753e+01\n",
              "min      1.000000e+00\n",
              "25%      1.000000e+00\n",
              "50%      3.000000e+00\n",
              "75%      9.000000e+00\n",
              "max      5.000000e+02\n",
              "Name: JobsReported, dtype: float64"
            ]
          },
          "metadata": {
            "tags": []
          },
          "execution_count": 8
        }
      ]
    },
    {
      "cell_type": "code",
      "metadata": {
        "id": "vXmzBHK6t1v-"
      },
      "source": [
        "del ppp_df3"
      ],
      "execution_count": null,
      "outputs": []
    },
    {
      "cell_type": "markdown",
      "metadata": {
        "id": "jO7_C8tA00fg"
      },
      "source": [
        "# **3. Data Analysis and Insights**\n",
        "\n",
        "Now that we have all our data, we'll look at metrics regarding dependent variable (loan amount) and how PPP loans have been distributed.\n",
        "\n",
        "Our first question to explore is:\n",
        "* What is the breakdown of loans by loan amount and industry?\n",
        "\n",
        "\n"
      ]
    },
    {
      "cell_type": "code",
      "metadata": {
        "colab": {
          "base_uri": "https://localhost:8080/"
        },
        "id": "p5bAvJt4ALNh",
        "outputId": "1b6b94eb-75d2-4836-a66f-41997b79f2bd"
      },
      "source": [
        "ppp_df['CurrentApprovalAmount'].describe()"
      ],
      "execution_count": null,
      "outputs": [
        {
          "output_type": "execute_result",
          "data": {
            "text/plain": [
              "count    7.113346e+06\n",
              "mean     9.390351e+04\n",
              "std      3.117902e+05\n",
              "min      1.050000e+00\n",
              "25%      1.078500e+04\n",
              "50%      2.091544e+04\n",
              "75%      6.698700e+04\n",
              "max      1.000000e+07\n",
              "Name: CurrentApprovalAmount, dtype: float64"
            ]
          },
          "metadata": {
            "tags": []
          },
          "execution_count": 10
        }
      ]
    },
    {
      "cell_type": "markdown",
      "metadata": {
        "id": "e_z_1Eu6cfdX"
      },
      "source": [
        "In order to see the breakdown of loans by loan amount, we'll group the loan amounts based on buckets so we can visualize them."
      ]
    },
    {
      "cell_type": "code",
      "metadata": {
        "id": "xKHIfgBeB3LS"
      },
      "source": [
        "def loanbucket (x):\n",
        "  if x < 10000:\n",
        "    return \"0-10k\"\n",
        "  elif x < 100000:\n",
        "    return \"10-99k\"\n",
        "  elif x < 500000:\n",
        "    return \"100-499k\"\n",
        "  elif x < 1000000:\n",
        "    return \"500-999k\"\n",
        "  else:\n",
        "    return \">1M\"\n"
      ],
      "execution_count": null,
      "outputs": []
    },
    {
      "cell_type": "code",
      "metadata": {
        "colab": {
          "base_uri": "https://localhost:8080/"
        },
        "id": "_qr6hTBwH03k",
        "outputId": "3ab5c255-6926-428e-8e03-d14917e05ea6"
      },
      "source": [
        "ppp_df['loan_amt_bucket'] = ppp_df.CurrentApprovalAmount.apply(loanbucket)\n",
        "\n",
        "\n",
        "ppp_df.loan_amt_bucket.value_counts()"
      ],
      "execution_count": null,
      "outputs": [
        {
          "output_type": "execute_result",
          "data": {
            "text/plain": [
              "10-99k      4203667\n",
              "0-10k       1628527\n",
              "100-499k    1039902\n",
              "500-999k     141730\n",
              ">1M           99520\n",
              "Name: loan_amt_bucket, dtype: int64"
            ]
          },
          "metadata": {
            "tags": []
          },
          "execution_count": 12
        }
      ]
    },
    {
      "cell_type": "markdown",
      "metadata": {
        "id": "ScRbSfPGcuNO"
      },
      "source": [
        "We'll create a pie chart to show the number of loans distributed by loan amount"
      ]
    },
    {
      "cell_type": "code",
      "metadata": {
        "id": "vHsbRnfS4jdC"
      },
      "source": [
        "loansum = ppp_df.groupby('loan_amt_bucket')['CurrentApprovalAmount'].sum()\n",
        "loancount = ppp_df.groupby('loan_amt_bucket')['LoanNumber'].count()"
      ],
      "execution_count": null,
      "outputs": []
    },
    {
      "cell_type": "code",
      "metadata": {
        "colab": {
          "base_uri": "https://localhost:8080/"
        },
        "id": "RsK09XRYL_20",
        "outputId": "05ca0070-25c6-47cc-ca89-467da75810de"
      },
      "source": [
        "fontdict = {'fontsize': 16}\n",
        "\n",
        "loancount.plot.pie(autopct=\"%.1f%%\", labels = None, figsize = (8,8), pctdistance = 1.2, colormap = 'Blues', radius = 0.9)\n",
        "\n",
        "plt.legend(loc = 'lower left', labels = loancount.index, title = 'Loan Amount ($)')\n",
        "plt.ylabel('')\n",
        "plt.title('Number of Loans by Loan Amount' ,fontdict = fontdict )\n"
      ],
      "execution_count": null,
      "outputs": [
        {
          "output_type": "execute_result",
          "data": {
            "text/plain": [
              "Text(0.5, 1.0, 'Number of Loans by Loan Amount')"
            ]
          },
          "metadata": {
            "tags": []
          },
          "execution_count": 14
        },
        {
          "output_type": "display_data",
          "data": {
            "image/png": "[encoded data removed]",
            "text/plain": [
              "<Figure size 576x576 with 1 Axes>"
            ]
          },
          "metadata": {
            "tags": []
          }
        }
      ]
    },
    {
      "cell_type": "markdown",
      "metadata": {
        "id": "do_WONKzc4t-"
      },
      "source": [
        "82% of the loans went to smaller loan amounts (i.e. less than 100k).\n",
        "\n",
        "Only 1.4% of loans were greater than $1M.\n",
        "\n",
        "Now, let's look at how the loan $s were distributed based on the same buckets."
      ]
    },
    {
      "cell_type": "code",
      "metadata": {
        "colab": {
          "base_uri": "https://localhost:8080/"
        },
        "id": "jjls7-S8O0FK",
        "outputId": "35584398-bafe-434a-db02-84d6b79ef801"
      },
      "source": [
        "fontdict = {'fontsize': 16}\n",
        "\n",
        "loansum.plot.pie(autopct=\"%.1f%%\", labels = None, figsize = (8,8), pctdistance = 1.2, colormap = 'Blues', radius = 0.9, startangle = 40)\n",
        "\n",
        "plt.legend(loc = 'lower left', labels = loancount.index, title = 'Loan Amount ($)')\n",
        "plt.ylabel('')\n",
        "plt.title('Loan Volume by Loan Amount' ,fontdict = fontdict )"
      ],
      "execution_count": null,
      "outputs": [
        {
          "output_type": "execute_result",
          "data": {
            "text/plain": [
              "Text(0.5, 1.0, 'Loan Volume by Loan Amount')"
            ]
          },
          "metadata": {
            "tags": []
          },
          "execution_count": 15
        },
        {
          "output_type": "display_data",
          "data": {
            "image/png": "[encoded data removed]",
            "text/plain": [
              "<Figure size 576x576 with 1 Axes>"
            ]
          },
          "metadata": {
            "tags": []
          }
        }
      ]
    },
    {
      "cell_type": "markdown",
      "metadata": {
        "id": "swqh3A4Udwzf"
      },
      "source": [
        "A very different picture!\n",
        "\n",
        "Although only 1.4% of loans were greater than $1M, those loans made up 30.7% of total loan amount. However, this would make sense if the companies with larger loan amounts have more employees. \n",
        "\n",
        "In order to normalize loan amount by employee, let's look at the distribution of loan amount per job reported. Note that max PPP loan amount is calculated as 2.5 months of payroll cost, and guidance is given to cap wages up to $100k.\n",
        "\n",
        "See more details on how max ppp loan amount is calculated: https://www.sba.gov/sites/default/files/2021-03/HowtoCalculateFirstDrawLoanAmountsFAQs-3.12.21-508.pdf"
      ]
    },
    {
      "cell_type": "markdown",
      "metadata": {
        "id": "IaQZjyQqfFy2"
      },
      "source": [
        "Since PPP loans cover 2.5 months of payroll, we'll create a new column that annualizes the loan amount so that it is easier to digest (i.e. divide by 2.5 and then multiply by 12)\n",
        "\n"
      ]
    },
    {
      "cell_type": "code",
      "metadata": {
        "colab": {
          "base_uri": "https://localhost:8080/"
        },
        "id": "hJ6ae9jQHO6r",
        "outputId": "63a5cebe-1227-4991-97e3-14ad1674a4f8"
      },
      "source": [
        "ppp_df['payroll'] = (ppp_df['CurrentApprovalAmount'] / ppp_df['JobsReported']) / 2.5 * 12\n",
        "\n",
        "ppp_df['payroll'].describe()\n",
        "\n"
      ],
      "execution_count": null,
      "outputs": [
        {
          "output_type": "execute_result",
          "data": {
            "text/plain": [
              "count    7.113346e+06\n",
              "mean     4.654242e+04\n",
              "std      4.786441e+04\n",
              "min      1.478400e+00\n",
              "25%      2.143104e+04\n",
              "50%      3.860571e+04\n",
              "75%      6.408480e+04\n",
              "max      3.126239e+07\n",
              "Name: payroll, dtype: float64"
            ]
          },
          "metadata": {
            "tags": []
          },
          "execution_count": 16
        }
      ]
    },
    {
      "cell_type": "markdown",
      "metadata": {
        "id": "zyS--cFfgNeC"
      },
      "source": [
        "The average payroll (or loan per job) is 40k which is in line with the national avg income of $34k (source: https://www.census.gov/quickfacts/fact/table/US/INC910219)\n",
        "\n",
        "Now let's bucket this metric so we can easily visualize the distribution."
      ]
    },
    {
      "cell_type": "code",
      "metadata": {
        "id": "19nDhkmFL6gm"
      },
      "source": [
        "def bucket (x):\n",
        "  if x < 40000:\n",
        "    return \"0-39k\"\n",
        "  elif x < 80000:\n",
        "    return \"40-79k\"\n",
        "  elif x < 100000:\n",
        "    return \"80-99k\"\n",
        "  else:\n",
        "    return \">100k\"\n",
        "\n"
      ],
      "execution_count": null,
      "outputs": []
    },
    {
      "cell_type": "code",
      "metadata": {
        "id": "iwxJgy-5Mjav",
        "colab": {
          "base_uri": "https://localhost:8080/"
        },
        "outputId": "e368a75e-41a3-4de6-99a5-bf4cf54d0c2b"
      },
      "source": [
        "ppp_df['payroll_bucket'] = ppp_df['payroll'].apply(bucket)\n",
        "\n",
        "ppp_df.payroll_bucket.value_counts()\n"
      ],
      "execution_count": null,
      "outputs": [
        {
          "output_type": "execute_result",
          "data": {
            "text/plain": [
              "0-39k     3680625\n",
              "40-79k    2259581\n",
              "80-99k     924439\n",
              ">100k      248701\n",
              "Name: payroll_bucket, dtype: int64"
            ]
          },
          "metadata": {
            "tags": []
          },
          "execution_count": 18
        }
      ]
    },
    {
      "cell_type": "markdown",
      "metadata": {
        "id": "U0ktP8zckeXn"
      },
      "source": [
        "Similar to the earlier pie charts on ppp loans and loan amounts, we'll look at the same visualizations for loan per job supported."
      ]
    },
    {
      "cell_type": "code",
      "metadata": {
        "id": "SLCCJhRSQfDd"
      },
      "source": [
        "payroll_sum = ppp_df.groupby('payroll_bucket')['CurrentApprovalAmount'].sum()\n",
        "payroll_ct = ppp_df.groupby('payroll_bucket')['LoanNumber'].count()"
      ],
      "execution_count": null,
      "outputs": []
    },
    {
      "cell_type": "code",
      "metadata": {
        "id": "lFO-qRfhRG5n",
        "colab": {
          "base_uri": "https://localhost:8080/"
        },
        "outputId": "f8ef1fc4-0610-4d6b-f570-d98eb2ffe951"
      },
      "source": [
        "fontdict = {'fontsize': 16}\n",
        "\n",
        "payroll_ct.plot.pie(autopct=\"%.1f%%\", labels = None, figsize = (8,8), pctdistance = 1.2, colormap = 'Greens', radius = 0.9, startangle = 20)\n",
        "\n",
        "plt.legend(loc = 'lower left', labels = payroll_ct.index, title = 'Loan per employee ($)')\n",
        "plt.ylabel('')\n",
        "plt.title('Loan Count by Payroll' ,fontdict = fontdict )"
      ],
      "execution_count": null,
      "outputs": [
        {
          "output_type": "execute_result",
          "data": {
            "text/plain": [
              "Text(0.5, 1.0, 'Loan Count by Payroll')"
            ]
          },
          "metadata": {
            "tags": []
          },
          "execution_count": 20
        },
        {
          "output_type": "display_data",
          "data": {
            "image/png": "[encoded data removed]",
            "text/plain": [
              "<Figure size 576x576 with 1 Axes>"
            ]
          },
          "metadata": {
            "tags": []
          }
        }
      ]
    },
    {
      "cell_type": "code",
      "metadata": {
        "id": "lCO7hCohRHcz",
        "colab": {
          "base_uri": "https://localhost:8080/"
        },
        "outputId": "b85e688f-5eac-41ff-9fac-71567674a556"
      },
      "source": [
        "fontdict = {'fontsize': 16}\n",
        "\n",
        "payroll_sum.plot.pie(autopct=\"%.1f%%\", labels = None, figsize = (8,8), pctdistance = 1.2, colormap = 'Greens', radius = 0.9)\n",
        "\n",
        "plt.legend(loc = 'lower left', labels = payroll_sum.index, title = 'Loan per employee ($)')\n",
        "plt.ylabel('')\n",
        "plt.title('Loan Volume by Payroll' ,fontdict = fontdict )"
      ],
      "execution_count": null,
      "outputs": [
        {
          "output_type": "execute_result",
          "data": {
            "text/plain": [
              "Text(0.5, 1.0, 'Loan Volume by Payroll')"
            ]
          },
          "metadata": {
            "tags": []
          },
          "execution_count": 21
        },
        {
          "output_type": "display_data",
          "data": {
            "image/png": "[encoded data removed]",
            "text/plain": [
              "<Figure size 576x576 with 1 Axes>"
            ]
          },
          "metadata": {
            "tags": []
          }
        }
      ]
    },
    {
      "cell_type": "markdown",
      "metadata": {
        "id": "Inhq7jJhqLy5"
      },
      "source": [
        "Let's check the value counts where payroll was greater than **100k**"
      ]
    },
    {
      "cell_type": "code",
      "metadata": {
        "id": "kyZaxLszqLg7"
      },
      "source": [
        "def payroll_morethan100k (x):\n",
        "  if x < 100000:\n",
        "    return \"0-100k\"\n",
        "  if x < 200000:\n",
        "    return \"100-200k\"\n",
        "  elif x < 500000:\n",
        "    return \"200-500k\"\n",
        "  else:\n",
        "    return \">500k\""
      ],
      "execution_count": null,
      "outputs": []
    },
    {
      "cell_type": "code",
      "metadata": {
        "colab": {
          "base_uri": "https://localhost:8080/"
        },
        "id": "CVnpbe25qpvi",
        "outputId": "daa6ca8e-bfaf-4c35-9812-1c35b1d104f6"
      },
      "source": [
        "ppp_df['greaterthan100k'] = ppp_df['payroll'].apply(payroll_morethan100k)\n",
        "ppp_df['greaterthan100k'].value_counts()"
      ],
      "execution_count": null,
      "outputs": [
        {
          "output_type": "execute_result",
          "data": {
            "text/plain": [
              "0-100k      6864645\n",
              "100-200k     231188\n",
              "200-500k      15404\n",
              ">500k          2109\n",
              "Name: greaterthan100k, dtype: int64"
            ]
          },
          "metadata": {
            "tags": []
          },
          "execution_count": 23
        }
      ]
    },
    {
      "cell_type": "code",
      "metadata": {
        "colab": {
          "base_uri": "https://localhost:8080/"
        },
        "id": "_HjFAubO0Qib",
        "outputId": "9c999ba1-6051-43ff-8597-fbcea920201a"
      },
      "source": [
        "ppp_df.groupby('greaterthan100k')['CurrentApprovalAmount'].sum()"
      ],
      "execution_count": null,
      "outputs": [
        {
          "output_type": "execute_result",
          "data": {
            "text/plain": [
              "greaterthan100k\n",
              "0-100k      6.099201e+11\n",
              "100-200k    5.297432e+10\n",
              "200-500k    3.792004e+09\n",
              ">500k       1.281711e+09\n",
              "Name: CurrentApprovalAmount, dtype: float64"
            ]
          },
          "metadata": {
            "tags": []
          },
          "execution_count": 24
        }
      ]
    },
    {
      "cell_type": "markdown",
      "metadata": {
        "id": "lFxRxo0trXXC"
      },
      "source": [
        "Currently PPP loan application guidance is to cap wages up to $100k. However, the loan amount per job is showing that a significant amount of loans is going to cover payroll costs that are >100k. 17.4k loans or 5.1 billion dollars went to companies with payroll costs greater than 200k!\n",
        "\n",
        "\n",
        "In order to optimize the reach of relief, the loan per job supported capped and enforced at 100k. Additionally, for loans that supported payroll costs of >200k, there should be an audit to determine misuse of funds, or data issues."
      ]
    },
    {
      "cell_type": "markdown",
      "metadata": {
        "id": "IO8qMwvhqjaA"
      },
      "source": [
        "Finally, let's look at loan count by industry."
      ]
    },
    {
      "cell_type": "code",
      "metadata": {
        "colab": {
          "base_uri": "https://localhost:8080/",
          "height": 419
        },
        "id": "4l4aPw7ionPP",
        "outputId": "ba3581db-c2eb-4016-b235-1adba86da318"
      },
      "source": [
        "#loan count by industry\n",
        "\n",
        "fontdict = {'fontsize': 16}\n",
        "sns.catplot(y= \"Summary_NAICS\", kind = 'count', data = ppp_df, order = ppp_df.Summary_NAICS.value_counts().index)\n",
        "plt.ylabel('')\n",
        "plt.title('Loan Count by Industry', fontdict= fontdict, loc = 'left',)"
      ],
      "execution_count": null,
      "outputs": [
        {
          "output_type": "execute_result",
          "data": {
            "text/plain": [
              "Text(0.0, 1.0, 'Loan Count by Industry')"
            ]
          },
          "metadata": {
            "tags": []
          },
          "execution_count": 25
        },
        {
          "output_type": "display_data",
          "data": {
            "image/png": "[encoded data removed]",
            "text/plain": [
              "<Figure size 360x360 with 1 Axes>"
            ]
          },
          "metadata": {
            "tags": [],
            "needs_background": "light"
          }
        }
      ]
    },
    {
      "cell_type": "markdown",
      "metadata": {
        "id": "5NYz60hAqqKR"
      },
      "source": [
        "Surprisingly, retail trade is the 5th highest industry."
      ]
    },
    {
      "cell_type": "markdown",
      "metadata": {
        "id": "yBqxyOacL8xv"
      },
      "source": [
        "Now that we have a baseline understanding of how loans were distributed, let's look at loan demographics and if there are any differences in mean loan amount by gender.\n",
        "\n",
        "\n",
        "# **4. Hypothesis testing - Mean loan amount by Gender**\n",
        "\n",
        "The first hypothesis we'll test is mean loan amount by gender:\n",
        "\n",
        "$H_0: \\mu_1 = \\mu_2$\n",
        "\n",
        "The mean loan amount is equal for male owned businesses vs. female owned businesses\n",
        "\n",
        "$H_1: \\mu_1 \\neq \\mu_2$\n",
        "\n",
        "H1: µ1 ≠ µ2 : The mean loan amount is not equal for male owned businesses vs. female owned businesses\n"
      ]
    },
    {
      "cell_type": "markdown",
      "metadata": {
        "id": "mYq99DdZrlkz"
      },
      "source": [
        "First, let's look at what values are available for testing in the Gender column"
      ]
    },
    {
      "cell_type": "code",
      "metadata": {
        "colab": {
          "base_uri": "https://localhost:8080/"
        },
        "id": "16gOQxzDvunz",
        "outputId": "fc310b10-6a24-4326-e7fc-f0f8e2ef6796"
      },
      "source": [
        "ppp_df.Gender.value_counts()"
      ],
      "execution_count": null,
      "outputs": [
        {
          "output_type": "execute_result",
          "data": {
            "text/plain": [
              "Unanswered      4826524\n",
              "Male Owned      1652269\n",
              "Female Owned     634553\n",
              "Name: Gender, dtype: int64"
            ]
          },
          "metadata": {
            "tags": []
          },
          "execution_count": 26
        }
      ]
    },
    {
      "cell_type": "markdown",
      "metadata": {
        "id": "po_xlD5grjAH"
      },
      "source": [
        "The majority of applicants chose to not disclose their gender.\n",
        "\n",
        "Next we'll look at how the loan amount is distributed"
      ]
    },
    {
      "cell_type": "code",
      "metadata": {
        "colab": {
          "base_uri": "https://localhost:8080/",
          "height": 313
        },
        "id": "1zbStb01cN8h",
        "outputId": "df080870-e706-4a4d-b36b-18f5c98e3a70"
      },
      "source": [
        "sns.histplot(ppp_df, x = 'CurrentApprovalAmount')\n",
        "plt.title('Distribution of CurrentApprovalAmount')"
      ],
      "execution_count": null,
      "outputs": [
        {
          "output_type": "execute_result",
          "data": {
            "text/plain": [
              "Text(0.5, 1.0, 'Distribution of CurrentApprovalAmount')"
            ]
          },
          "metadata": {
            "tags": []
          },
          "execution_count": 27
        },
        {
          "output_type": "display_data",
          "data": {
            "image/png": "[encoded data removed]",
            "text/plain": [
              "<Figure size 432x288 with 1 Axes>"
            ]
          },
          "metadata": {
            "tags": [],
            "needs_background": "light"
          }
        }
      ]
    },
    {
      "cell_type": "markdown",
      "metadata": {
        "id": "ikPtauX1r4by"
      },
      "source": [
        "Since the loan amount distribution is very broadly distributed and not normal, we'll normalize the distribution by log transforming the data."
      ]
    },
    {
      "cell_type": "code",
      "metadata": {
        "colab": {
          "base_uri": "https://localhost:8080/",
          "height": 314
        },
        "id": "f0QmfxZjqUJN",
        "outputId": "d9f860d9-2650-4a0d-c232-264d39787110"
      },
      "source": [
        "ppp_df['log_loan_amt'] = np.log ( ppp_df['CurrentApprovalAmount'] )\n",
        "\n",
        "sns.histplot(data = ppp_df, x = 'log_loan_amt')\n",
        "plt.title('Distribution of Log Transformed CurrentApprovalAmount')"
      ],
      "execution_count": null,
      "outputs": [
        {
          "output_type": "execute_result",
          "data": {
            "text/plain": [
              "Text(0.5, 1.0, 'Distribution of Log Transformed CurrentApprovalAmount')"
            ]
          },
          "metadata": {
            "tags": []
          },
          "execution_count": 28
        },
        {
          "output_type": "display_data",
          "data": {
            "image/png": "[encoded data removed]",
            "text/plain": [
              "<Figure size 432x288 with 1 Axes>"
            ]
          },
          "metadata": {
            "tags": [],
            "needs_background": "light"
          }
        }
      ]
    },
    {
      "cell_type": "markdown",
      "metadata": {
        "id": "ylKFisM6sBKr"
      },
      "source": [
        "The data looks more normal now to perform hypothesis testing. We'll create a dataframe for males and females."
      ]
    },
    {
      "cell_type": "code",
      "metadata": {
        "id": "Y2JtxuHvU63Q"
      },
      "source": [
        "mppp_df = ppp_df.iloc[(ppp_df['Gender'] == 'Male Owned').values]\n",
        "fppp_df = ppp_df.iloc[(ppp_df['Gender'] == 'Female Owned').values]\n"
      ],
      "execution_count": null,
      "outputs": []
    },
    {
      "cell_type": "code",
      "metadata": {
        "colab": {
          "base_uri": "https://localhost:8080/"
        },
        "id": "Vn31EXAOCIXg",
        "outputId": "87041fa3-c1dc-428d-c610-e315460e6ac7"
      },
      "source": [
        "stats.ttest_ind(mppp_df['log_loan_amt'], fppp_df['log_loan_amt'])"
      ],
      "execution_count": null,
      "outputs": [
        {
          "output_type": "execute_result",
          "data": {
            "text/plain": [
              "Ttest_indResult(statistic=214.35217523791445, pvalue=0.0)"
            ]
          },
          "metadata": {
            "tags": []
          },
          "execution_count": 30
        }
      ]
    },
    {
      "cell_type": "markdown",
      "metadata": {
        "id": "FmrRFU0jst_y"
      },
      "source": [
        "For log transformed data, typically data is transformed back to the original scale as geometric means, which is a good estimate of the original median.\n",
        "\n",
        "Geometoric means are the anti-logs of the mean of the logged data. Additionally a property of logarithims is that \"the difference between logs is the log of the ratio\".\n",
        "\n",
        "Thus, when we take the difference in mean log amounts and take the anti log, this translates to the \"ratio of geometric mean amount of male loan amounts to female loan amounts.\"\n",
        "\n",
        "This article was used to handle ttests and CIs for log transforned data: http://www.jerrydallal.com/LHSP/ci_logs.htm\n",
        "\n",
        "\n"
      ]
    },
    {
      "cell_type": "code",
      "metadata": {
        "colab": {
          "base_uri": "https://localhost:8080/"
        },
        "id": "SBn3AF1JzVp5",
        "outputId": "6336aeab-62bc-4fb0-95a5-c2b3efdd3584"
      },
      "source": [
        "math.exp(mppp_df['log_loan_amt'].mean()- fppp_df['log_loan_amt'].mean())\n"
      ],
      "execution_count": null,
      "outputs": [
        {
          "output_type": "execute_result",
          "data": {
            "text/plain": [
              "1.5471511245889853"
            ]
          },
          "metadata": {
            "tags": []
          },
          "execution_count": 31
        }
      ]
    },
    {
      "cell_type": "markdown",
      "metadata": {
        "id": "lh5gmvkH3mFy"
      },
      "source": [
        "Based on the article above, you can say that the median loan amount for men is approximately 1.547 of the median loan amount for women.\n",
        "\n",
        "Now let's calculate the confidence interval. The confidence interval will be the ratio of the medians in the original scale."
      ]
    },
    {
      "cell_type": "markdown",
      "metadata": {
        "id": "gyLQnEwIsJjw"
      },
      "source": [
        "We'll create confidence intervals using a defined function that returns the anti logs of the lower and upper CIs"
      ]
    },
    {
      "cell_type": "code",
      "metadata": {
        "id": "XKXK06alK_8A"
      },
      "source": [
        "def get_95_ci(array_1, array_2):\n",
        "    sample_1_n = array_1.shape[0]\n",
        "    sample_2_n = array_2.shape[0]\n",
        "    sample_1_mean = array_1.mean()\n",
        "    sample_2_mean = array_2.mean()\n",
        "    sample_1_var = array_1.var()\n",
        "    sample_2_var = array_2.var()\n",
        "    mean_difference = sample_2_mean - sample_1_mean\n",
        "    std_err_difference = math.sqrt((sample_1_var/sample_1_n)+(sample_2_var/sample_2_n))\n",
        "    margin_of_error = 1.96 * std_err_difference\n",
        "    ci_lower = mean_difference - margin_of_error\n",
        "    ci_upper = mean_difference + margin_of_error\n",
        "    ci_lower_antilog = math.exp(ci_lower)\n",
        "    ci_upper_antilog = math.exp(ci_upper)\n",
        "    return ci_lower_antilog, ci_upper_antilog"
      ],
      "execution_count": null,
      "outputs": []
    },
    {
      "cell_type": "code",
      "metadata": {
        "id": "zbDCEIImLRLv",
        "colab": {
          "base_uri": "https://localhost:8080/"
        },
        "outputId": "07b95858-aad9-4a9f-dff5-27778e60f61c"
      },
      "source": [
        "get_95_ci(fppp_df['log_loan_amt'], mppp_df['log_loan_amt'])\n"
      ],
      "execution_count": null,
      "outputs": [
        {
          "output_type": "execute_result",
          "data": {
            "text/plain": [
              "(1.541104522144651, 1.5532214511873885)"
            ]
          },
          "metadata": {
            "tags": []
          },
          "execution_count": 33
        }
      ]
    },
    {
      "cell_type": "markdown",
      "metadata": {
        "id": "1OGdOauNuhiP"
      },
      "source": [
        "We can say that the median loan amount for males is approximately 1.547 of women (95% confidence level with CI of 1.541 to 1.553)"
      ]
    },
    {
      "cell_type": "markdown",
      "metadata": {
        "id": "w5H3i_mvmY5i"
      },
      "source": [
        "The median loan amount for men is significnatly higher. This could be due a higher ratio of larger companies owned by men. What if we adjust by company size? \n",
        "\n",
        "This brings us to our next hypothesis testing:\n",
        "\n"
      ]
    },
    {
      "cell_type": "markdown",
      "metadata": {
        "id": "9yCM_JiK8apq"
      },
      "source": [
        "# **5. Hypothesis testing - Mean loan amount by gender, adjusted by company size**\n",
        "\n",
        "$H_1: \\mu_1 = \\mu_2$\n",
        "\n",
        "The mean loan amount is equal for male owned businesses that are small/medium/large vs. female owned businesses of the same size\n",
        "\n",
        "$H_1: \\mu_1 \\neq \\mu_2$\n",
        "\n",
        "The mean loan amount is not equal for male owned businesses that are small/medium/large vs. female owned businesses of the same size\n",
        "\n",
        "See below function for how we'll define small, medium, and large.\n",
        "\n"
      ]
    },
    {
      "cell_type": "code",
      "metadata": {
        "id": "ZBYCNa2M4IIr"
      },
      "source": [
        "def companysize (x):\n",
        "  if x < 10:\n",
        "    return \"Small (0-9)\"\n",
        "  elif x < 100:\n",
        "    return \"Mid (10-99)\"\n",
        "  else:\n",
        "    return \"Large (100-500)\"\n",
        "\n"
      ],
      "execution_count": null,
      "outputs": []
    },
    {
      "cell_type": "code",
      "metadata": {
        "id": "NO0hS-jFBsUM"
      },
      "source": [
        "pd.options.mode.chained_assignment = None  # default='warn'\n",
        "\n",
        "ppp_df['company_size'] = ppp_df.JobsReported.apply(companysize)\n",
        "mppp_df['company_size'] = ppp_df.JobsReported.apply(companysize)\n",
        "fppp_df['company_size'] = ppp_df.JobsReported.apply(companysize)\n"
      ],
      "execution_count": null,
      "outputs": []
    },
    {
      "cell_type": "code",
      "metadata": {
        "id": "DuU6U2jnJmQ4",
        "colab": {
          "base_uri": "https://localhost:8080/",
          "height": 297
        },
        "outputId": "6c310da5-e960-46c6-c867-9b08ad5dfb65"
      },
      "source": [
        "sns.boxplot(data = mppp_df, x = 'Gender', y = 'log_loan_amt', hue = 'company_size')"
      ],
      "execution_count": null,
      "outputs": [
        {
          "output_type": "execute_result",
          "data": {
            "text/plain": [
              "<matplotlib.axes._subplots.AxesSubplot at 0x7fb836a8c850>"
            ]
          },
          "metadata": {
            "tags": []
          },
          "execution_count": 36
        },
        {
          "output_type": "display_data",
          "data": {
            "image/png": "[encoded data removed]",
            "text/plain": [
              "<Figure size 432x288 with 1 Axes>"
            ]
          },
          "metadata": {
            "tags": [],
            "needs_background": "light"
          }
        }
      ]
    },
    {
      "cell_type": "markdown",
      "metadata": {
        "id": "vBbHOLJ84-eu"
      },
      "source": [
        "Now we see that the difference in logged mean loan amounts by gender looks similar. \n",
        "\n",
        "Let's test gender difference for large companies:"
      ]
    },
    {
      "cell_type": "code",
      "metadata": {
        "colab": {
          "base_uri": "https://localhost:8080/"
        },
        "id": "9XO27lVLm0k8",
        "outputId": "53c08394-d3a7-4052-990f-c4a34ecfa099"
      },
      "source": [
        "m_large = mppp_df.iloc[(mppp_df.company_size == 'Large (100-500)').values]\n",
        "f_large = fppp_df.iloc[(fppp_df.company_size == 'Large (100-500)').values]\n",
        "\n",
        "print(m_large.CurrentApprovalAmount.mean())\n",
        "print(f_large.CurrentApprovalAmount.mean())"
      ],
      "execution_count": null,
      "outputs": [
        {
          "output_type": "stream",
          "text": [
            "1522447.9641778392\n",
            "1228967.0700018161\n"
          ],
          "name": "stdout"
        }
      ]
    },
    {
      "cell_type": "code",
      "metadata": {
        "id": "6G2ZsOJqmPXi",
        "colab": {
          "base_uri": "https://localhost:8080/"
        },
        "outputId": "484fefa0-b28c-44d4-d853-b87f518a5f71"
      },
      "source": [
        "stats.ttest_ind(m_large['log_loan_amt'], f_large['log_loan_amt'])"
      ],
      "execution_count": null,
      "outputs": [
        {
          "output_type": "execute_result",
          "data": {
            "text/plain": [
              "Ttest_indResult(statistic=16.344133583417506, pvalue=8.322378847347348e-60)"
            ]
          },
          "metadata": {
            "tags": []
          },
          "execution_count": 38
        }
      ]
    },
    {
      "cell_type": "code",
      "metadata": {
        "colab": {
          "base_uri": "https://localhost:8080/"
        },
        "id": "QOd2SJ6W5VbZ",
        "outputId": "a34c6f6a-29f2-4374-eb98-995cd6194fb4"
      },
      "source": [
        "math.exp(m_large['log_loan_amt'].mean()- f_large['log_loan_amt'].mean())"
      ],
      "execution_count": null,
      "outputs": [
        {
          "output_type": "execute_result",
          "data": {
            "text/plain": [
              "1.2977064995354546"
            ]
          },
          "metadata": {
            "tags": []
          },
          "execution_count": 39
        }
      ]
    },
    {
      "cell_type": "code",
      "metadata": {
        "colab": {
          "base_uri": "https://localhost:8080/"
        },
        "id": "eXAePfom5bLh",
        "outputId": "5658c0fc-b4ab-4369-9ac7-105220214d4c"
      },
      "source": [
        "get_95_ci(f_large['log_loan_amt'], m_large['log_loan_amt'])"
      ],
      "execution_count": null,
      "outputs": [
        {
          "output_type": "execute_result",
          "data": {
            "text/plain": [
              "(1.255838651779454, 1.3409701608963607)"
            ]
          },
          "metadata": {
            "tags": []
          },
          "execution_count": 40
        }
      ]
    },
    {
      "cell_type": "markdown",
      "metadata": {
        "id": "3puYoWNO5sYF"
      },
      "source": [
        "The median loan amount for male owners of large companies is approximately 1.298 of women (95% confidence level with CI of 1.256 to 1.341)"
      ]
    },
    {
      "cell_type": "markdown",
      "metadata": {
        "id": "qFc7_RkPwUqY"
      },
      "source": [
        "Let's do the same for mid and small companies:"
      ]
    },
    {
      "cell_type": "code",
      "metadata": {
        "colab": {
          "base_uri": "https://localhost:8080/"
        },
        "id": "FNgN5S6anj7b",
        "outputId": "7f3287b4-46ba-4c5f-a2b9-5c1da2ec8a17"
      },
      "source": [
        "m_mid = mppp_df.iloc[(mppp_df.JobsReported == 100).values]\n",
        "f_mid = fppp_df.iloc[(fppp_df.JobsReported == 100).values]\n",
        "\n",
        "print(stats.ttest_ind(m_mid['log_loan_amt'], f_mid['log_loan_amt']))\n",
        "print(math.exp(m_mid['log_loan_amt'].mean()- f_mid['log_loan_amt'].mean()))\n",
        "print(get_95_ci(f_mid['log_loan_amt'], m_mid['log_loan_amt']))"
      ],
      "execution_count": null,
      "outputs": [
        {
          "output_type": "stream",
          "text": [
            "Ttest_indResult(statistic=3.965270176280296, pvalue=7.815277837997429e-05)\n",
            "1.5017930298743898\n",
            "(1.2066780635428727, 1.8690837040306958)\n"
          ],
          "name": "stdout"
        }
      ]
    },
    {
      "cell_type": "markdown",
      "metadata": {
        "id": "LZKuOYq2K5jn"
      },
      "source": [
        "The median loan amount for male owners of mid-size companies is approximately 1.502 of women (95% confidence level with CI of 1.207 to 1.869)"
      ]
    },
    {
      "cell_type": "code",
      "metadata": {
        "id": "cprsHo1DnloT",
        "colab": {
          "base_uri": "https://localhost:8080/"
        },
        "outputId": "4b75f4e9-58b2-47e0-ce0a-de67263ffdb8"
      },
      "source": [
        "m_small = mppp_df.iloc[(mppp_df.company_size == 'Small (0-9)').values]\n",
        "f_small = fppp_df.iloc[(fppp_df.company_size == 'Small (0-9)').values]\n",
        "\n",
        "print(stats.ttest_ind(m_small['log_loan_amt'], f_small['log_loan_amt']))\n",
        "print(math.exp(m_small['log_loan_amt'].mean()- f_small['log_loan_amt'].mean()))\n",
        "print(get_95_ci(f_small['log_loan_amt'], m_small['log_loan_amt']))"
      ],
      "execution_count": null,
      "outputs": [
        {
          "output_type": "stream",
          "text": [
            "Ttest_indResult(statistic=159.6462514226609, pvalue=0.0)\n",
            "1.310588078975215\n",
            "(1.306201866532768, 1.3149890202739611)\n"
          ],
          "name": "stdout"
        }
      ]
    },
    {
      "cell_type": "markdown",
      "metadata": {
        "id": "rNulEW7-se_N"
      },
      "source": [
        "The median loan amount for male owners of small companies is approximately 1.311 of women (95% confidence level with CI of 1.306 to 1.315)\n",
        "\n",
        "\n",
        "At every level of company size, the avg loan amount for females is lower at a significant level!"
      ]
    },
    {
      "cell_type": "markdown",
      "metadata": {
        "id": "v_OISgO-PqKE"
      },
      "source": [
        "# **6. Hypothesis testing - % of PPP loans to women owned businesses vs. total US proportion**\n",
        "\n",
        "Lastly, let's look at % of ppp loans that went to female owned businesses vs. % of women-owned businesses in US population.\n",
        "\n",
        "Per the American Express 2019 study, 37% of US firms were owned by women. \n",
        "\n",
        "https://s1.q4cdn.com/692158879/files/doc_library/file/2019-state-of-women-owned-businesses-report.pdf\n",
        "\n",
        "\n",
        "$H_1: \\mu_1 = \\mu_2$\n",
        "\n",
        "The % of ppp loans to female owned businesses is equal to the total % of businesses owned by women.\n",
        "\n",
        "$H_1: \\mu_1 \\neq \\mu_2$\n",
        "\n",
        "The % of ppp loans to female owned businesses is not equal to the total % of businesses owned by women.\n",
        "\n",
        "\n"
      ]
    },
    {
      "cell_type": "markdown",
      "metadata": {
        "id": "oZoyuxsUgT9Z"
      },
      "source": [
        "First let's get the % of ppp loans that went to women owned businesses."
      ]
    },
    {
      "cell_type": "code",
      "metadata": {
        "id": "0QuiCanKTJIu"
      },
      "source": [
        "f_prop = fppp_df.shape[0] / (fppp_df.shape[0] + mppp_df.shape[0])"
      ],
      "execution_count": null,
      "outputs": []
    },
    {
      "cell_type": "markdown",
      "metadata": {
        "id": "rbicXFCuWwdN"
      },
      "source": [
        "28% of PPP loans went to women owned businesses, even though 37% of businesses are owned by women. Let's perform a one sample z test to determine statistical significance."
      ]
    },
    {
      "cell_type": "code",
      "metadata": {
        "colab": {
          "base_uri": "https://localhost:8080/"
        },
        "id": "WPbq_ow1SEoV",
        "outputId": "d34427bc-cc4e-4176-d404-416874af80d2"
      },
      "source": [
        "from statsmodels.stats.proportion import proportions_ztest\n",
        "\n",
        "fem_count = fppp_df.shape[0]\n",
        "total_count = (fppp_df.shape[0] + mppp_df.shape[0])\n",
        "proportions_ztest(count= fem_count, nobs = total_count, value = 0.37)"
      ],
      "execution_count": null,
      "outputs": [
        {
          "output_type": "stream",
          "text": [
            "/usr/local/lib/python3.7/dist-packages/statsmodels/tools/_testing.py:19: FutureWarning: pandas.util.testing is deprecated. Use the functions in the public API at pandas.testing instead.\n",
            "  import pandas.util.testing as tm\n"
          ],
          "name": "stderr"
        },
        {
          "output_type": "execute_result",
          "data": {
            "text/plain": [
              "(-312.4627702147293, 0.0)"
            ]
          },
          "metadata": {
            "tags": []
          },
          "execution_count": 44
        }
      ]
    },
    {
      "cell_type": "code",
      "metadata": {
        "colab": {
          "base_uri": "https://localhost:8080/"
        },
        "id": "PE-rp9iGXbQm",
        "outputId": "1292ca4b-cf8c-432c-c2b6-4a437577f739"
      },
      "source": [
        "std_err = math.sqrt((f_prop*(1-f_prop))/total_count)\n",
        "\n",
        "margin_of_error = 1.96 * std_err\n",
        "\n",
        "print(f_prop, \" +/- \",margin_of_error)"
      ],
      "execution_count": null,
      "outputs": [
        {
          "output_type": "stream",
          "text": [
            "0.2774824625615811  +/-  0.000580339133698025\n"
          ],
          "name": "stdout"
        }
      ]
    },
    {
      "cell_type": "markdown",
      "metadata": {
        "id": "rqQb43rSWpoF"
      },
      "source": [
        "At a p-value of <0.01, the proportion of women who received a PPP loan is significantly smaller than the proportion of women owned businesses in the US."
      ]
    },
    {
      "cell_type": "markdown",
      "metadata": {
        "id": "gyoCWdcyLc4r"
      },
      "source": [
        "# **7. Findings and Recommendations**\n",
        "\n",
        "Through this analysis, we have the following findings:\n",
        "\n",
        "\n",
        "Loan Distribution Findings: \n",
        "*   Although only 1.4% of loans were greater than 1M USD, those loans made up 30.7% of total loan amount. \n",
        "*   When normalizing loan amount by employee, 9% of loans went to support \n",
        "businesses where the annualized loan amount per employee was +100k, even though the current PPP loan application guidance is to cap wages up to 100k. \n",
        "*   17.5k loans went to comopanies wtih payroll costs >200k, equating to 5.1B dollars\n",
        "\n",
        "For women-owned business, we found that:\n",
        "* The mean loan amount for women owned businesses were significantly lower than male owned businesses, even when adjusting for company sizee\n",
        "* Only 28% of ppp loans went to women owned businesses, when 37% of firms are owned by women.\n",
        "* **Caveat:** Majority (68%) of applicants did not disclose gender, potentially misleading results. E.g. One gender could be more or less likely to disclose their gender, thus skewing the data\n",
        "\n",
        "Recommendations:\n",
        "* In order to optimize the reach of relief, cap and enforce the loan amount per employee to 100k\n",
        "* Additionally, for outlier loans that were >200k/job supported, look into misuse of funds, or data issues.\n",
        "* Further analysis on wny the mean loan amount for women owned businesses are lower than male counterparts\n",
        "* Potential outreach and education for women owned businesses on future relief programs"
      ]
    }
  ]
}